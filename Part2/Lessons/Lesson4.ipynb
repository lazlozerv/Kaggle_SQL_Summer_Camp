{
  "nbformat": 4,
  "nbformat_minor": 0,
  "metadata": {
    "colab": {
      "name": "Lesson4.ipynb",
      "version": "0.3.2",
      "provenance": [],
      "collapsed_sections": [],
      "include_colab_link": true
    },
    "kernelspec": {
      "name": "python3",
      "display_name": "Python 3"
    }
  },
  "cells": [
    {
      "cell_type": "markdown",
      "metadata": {
        "id": "view-in-github",
        "colab_type": "text"
      },
      "source": [
        "<a href=\"https://colab.research.google.com/github/lazlozerv/Kaggle_SQL_Summer_Camp/blob/master/Lesson4.ipynb\" target=\"_parent\"><img src=\"https://colab.research.google.com/assets/colab-badge.svg\" alt=\"Open In Colab\"/></a>"
      ]
    },
    {
      "cell_type": "markdown",
      "metadata": {
        "id": "if3VRog20x0Q",
        "colab_type": "text"
      },
      "source": [
        "#### Intro\n",
        "\n",
        "In this lesson we are going to learn about **EXTRACT, DATE and ORDER BY** to change the order of your results. (Usually in ascending or descending order)"
      ]
    },
    {
      "cell_type": "markdown",
      "metadata": {
        "id": "JjgzjkO81T5a",
        "colab_type": "text"
      },
      "source": [
        "#### ORDER BY\n",
        "\n",
        "\n",
        "**ORDER_BY** sorts the results returned by the rest of your query. We select the column we want the to be sorted by."
      ]
    },
    {
      "cell_type": "markdown",
      "metadata": {
        "id": "gbziRcRo2IhR",
        "colab_type": "text"
      },
      "source": [
        "#### Dates\n",
        "\n",
        "There are 2 ways that dates can be stored in BigQuery: as a **DATE** or as a __DATETIME__.\n",
        "\n",
        "The **DATE** format has the year first, then the month, and then the day. It looks like this:\n",
        "\n",
        "``` YYYY-[M]M-[D]D ```\n",
        "\n",
        "* `YYYY`: Four-digit year\n",
        "* `[M]M`: One or two digit month\n",
        "* `[D]D`: One or two digit day\n",
        "\n",
        "\n",
        "So `2019-01-10` is interpreted as January 10, 2019\n",
        "\n",
        "The __DATETIME__ format is like the date format ... but with time added at the end"
      ]
    },
    {
      "cell_type": "markdown",
      "metadata": {
        "id": "lERDhFjK3UK4",
        "colab_type": "text"
      },
      "source": [
        "#### Extract\n",
        "\n",
        "Often you'll want to look at part of a date, like the year or the day. You can do this with __EXTRACT__."
      ]
    },
    {
      "cell_type": "code",
      "metadata": {
        "id": "A0IAYVPX4Vo9",
        "colab_type": "code",
        "colab": {}
      },
      "source": [
        "### Example: \n",
        "# query=\"\"\"\n",
        "#       SELECT Name,EXTRACT(DAY from Date) AS Day\n",
        "#       FROM 'bigquery-public-date.pet_records.pets_with_date'\n",
        "#       \"\"\"\n",
        "\n",
        "# second_query = \"\"\"\n",
        "#                SELECT COUNT(consecutive_number) AS num_accidents, \n",
        "#                EXTRACT(DAYOFWEEK FROM timestamp_of_crash) AS day_of_week\n",
        "#                FROM `bigquery-public-data.nhtsa_traffic_fatalities.accident_2015`\n",
        "#                GROUP BY day_of_week\n",
        "#                ORDER BY num_accidents DESC\n",
        "#                \"\"\""
      ],
      "execution_count": 0,
      "outputs": []
    }
  ]
}