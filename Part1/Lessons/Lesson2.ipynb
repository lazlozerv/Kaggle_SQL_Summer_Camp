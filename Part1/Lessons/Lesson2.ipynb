{
  "nbformat": 4,
  "nbformat_minor": 0,
  "metadata": {
    "colab": {
      "name": "Lesson2.ipynb",
      "version": "0.3.2",
      "provenance": [],
      "collapsed_sections": [],
      "include_colab_link": true
    },
    "kernelspec": {
      "name": "python3",
      "display_name": "Python 3"
    }
  },
  "cells": [
    {
      "cell_type": "markdown",
      "metadata": {
        "id": "view-in-github",
        "colab_type": "text"
      },
      "source": [
        "<a href=\"https://colab.research.google.com/github/lazlozerv/Kaggle_SQL_Summer_Camp/blob/master/Lesson2.ipynb\" target=\"_parent\"><img src=\"https://colab.research.google.com/assets/colab-badge.svg\" alt=\"Open In Colab\"/></a>"
      ]
    },
    {
      "cell_type": "markdown",
      "metadata": {
        "id": "22eQWfg2F-_h",
        "colab_type": "text"
      },
      "source": [
        "**Intro**\n",
        "\n",
        "In this lesson we 'll learn about SQL queries in __BigQuery__\n",
        "and more specifically about **SELECT ... FROM WHERE ...** \n",
        "\n",
        "The syntax of this query is very simple and I will not explain it."
      ]
    },
    {
      "cell_type": "code",
      "metadata": {
        "id": "_JDLUW4tGwRe",
        "colab_type": "code",
        "colab": {}
      },
      "source": [
        "# Example of a query\n",
        "# query = \"\"\"\n",
        "#         SELECT Name\n",
        "#         FROM 'bigquery-publid-data.pet_records.pets'\n",
        "#         WHERE Animal = 'Cat'\n",
        "#         \"\"\""
      ],
      "execution_count": 0,
      "outputs": []
    },
    {
      "cell_type": "code",
      "metadata": {
        "id": "9zwHkLu4GllF",
        "colab_type": "code",
        "colab": {}
      },
      "source": [
        "from google.cloud import bigquery\n",
        "\n",
        "\n",
        "# Create a \"Client\" object\n",
        "client = bigquery.Client()\n",
        "\n",
        "# Construct a reference to the \"openaq\" dataset\n",
        "dataset_ref = client.dataset(\"openaq\",project=\"bigquery-public-data\")\n",
        "\n",
        "# API request - fetch the dataset\n",
        "dataset = client.get_dataset(dataset_ref)\n",
        "\n",
        "\"\"\"\n",
        "# List all the tables in the \"openaq\" dataset\n",
        "tables = list(client.list_tables(dataset))\n",
        "\n",
        "# Print names of all tables in the dataset\n",
        "for table in tables:\n",
        "  print(table.table_id)\n",
        "  \n",
        "\"\"\""
      ],
      "execution_count": 0,
      "outputs": []
    },
    {
      "cell_type": "code",
      "metadata": {
        "id": "yIgffWRnKCN3",
        "colab_type": "code",
        "colab": {}
      },
      "source": [
        "# Construct a reference to the \"global air quality\" table\n",
        "table_ref = dataset_ref.table(\"global_air_quality\")\n",
        "\n",
        "\n",
        "# API request - fetch the table\n",
        "table = client.get_table(table_ref)\n",
        "\n",
        "# Preview the first five lines of the \"global_air_quality\" table\n",
        "client.list_rows(table, max_results=5).to_dataframe()"
      ],
      "execution_count": 0,
      "outputs": []
    },
    {
      "cell_type": "code",
      "metadata": {
        "id": "JaF8u9gjKoAJ",
        "colab_type": "code",
        "colab": {}
      },
      "source": [
        "# Printing the table's schema\n",
        "table.schema\n",
        "\n",
        "# Query to select all the items from the \"city\" column where the \"country\" column is 'US'\n",
        "query = \"\"\"\n",
        "        SELECT city\n",
        "        FROM 'bigquery-public-data.openaq.global_air_quality'\n",
        "        WHERE country = 'US'\n",
        "        \"\"\""
      ],
      "execution_count": 0,
      "outputs": []
    },
    {
      "cell_type": "markdown",
      "metadata": {
        "id": "WFF5TBVsLU1g",
        "colab_type": "text"
      },
      "source": [
        "#### Submitting the query to the dataset \n",
        "\n",
        "We begin with setting up the query with the `query` method."
      ]
    },
    {
      "cell_type": "code",
      "metadata": {
        "id": "MZFZoFRoLjBt",
        "colab_type": "code",
        "colab": {}
      },
      "source": [
        "# Set up the query\n",
        "query_job = client.query(query)\n",
        "\n",
        "# API request - run the query, and return a pandas DataFrame\n",
        "us_cities = query_job.to_dataframe()"
      ],
      "execution_count": 0,
      "outputs": []
    },
    {
      "cell_type": "markdown",
      "metadata": {
        "id": "mjDRUUWaL0X8",
        "colab_type": "text"
      },
      "source": [
        "Now we've got a pandas DataFrame, which we can use like any other DataFrame"
      ]
    },
    {
      "cell_type": "code",
      "metadata": {
        "id": "V4Y5LGMrL8Qe",
        "colab_type": "code",
        "colab": {}
      },
      "source": [
        "# What 5 cities have the most measurements\n",
        "us_cities.city.value_counts().head()"
      ],
      "execution_count": 0,
      "outputs": []
    },
    {
      "cell_type": "markdown",
      "metadata": {
        "id": "2iF86YaaMOUV",
        "colab_type": "text"
      },
      "source": [
        "#### Working with big datasets\n",
        "\n",
        "How to estimate the size of any query before running it ? To see how much data a query will scan, we create a ` QueryJobConfig ` object and set the `dry_run` parameter to `True`."
      ]
    },
    {
      "cell_type": "code",
      "metadata": {
        "id": "StL6UnnCMw43",
        "colab_type": "code",
        "colab": {}
      },
      "source": [
        "# The example query\n",
        "query = \"\"\"\n",
        "        SELECT score, title\n",
        "        FROM `bigquery-public-data.hacker_news.full`\n",
        "        WHERE type = \"job\" \n",
        "        \"\"\"\n",
        "\n",
        "# Create a QueryJobConfig object to estimate size of query without running it, \n",
        "# specify parameter maximum_bytes_billed for upper bound of query.\n",
        "dry_run_config = bigquery.QueryJobConfig(dry_run=True)\n",
        "\n",
        "# API request - dry run query to estimate costs\n",
        "dry_run_query_job = client.query(query, job_config=dry_run_config)\n",
        "\n",
        "print(\"This query will process {} bytes.\".format(dry_run_query_job.total_bytes_processed))"
      ],
      "execution_count": 0,
      "outputs": []
    }
  ]
}