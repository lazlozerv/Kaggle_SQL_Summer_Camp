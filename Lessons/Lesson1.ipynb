{
  "nbformat": 4,
  "nbformat_minor": 0,
  "metadata": {
    "colab": {
      "name": "Lesson1.ipynb",
      "version": "0.3.2",
      "provenance": [],
      "collapsed_sections": [],
      "include_colab_link": true
    },
    "kernelspec": {
      "name": "python3",
      "display_name": "Python 3"
    }
  },
  "cells": [
    {
      "cell_type": "markdown",
      "metadata": {
        "id": "view-in-github",
        "colab_type": "text"
      },
      "source": [
        "<a href=\"https://colab.research.google.com/github/lazlozerv/Kaggle_SQL_Summer_Camp/blob/master/Lesson1.ipynb\" target=\"_parent\"><img src=\"https://colab.research.google.com/assets/colab-badge.svg\" alt=\"Open In Colab\"/></a>"
      ]
    },
    {
      "cell_type": "markdown",
      "metadata": {
        "id": "f3zqgw1TW4tm",
        "colab_type": "text"
      },
      "source": [
        "**SQL**  is the programming language used with databases. In this course we'll use __BigQuery__, a web service that lets you apply SQL to huge datasets."
      ]
    },
    {
      "cell_type": "code",
      "metadata": {
        "id": "rdYtNACCXfUQ",
        "colab_type": "code",
        "colab": {}
      },
      "source": [
        "# Import Python package of BigQuery\n",
        "from google.cloud import bigquery"
      ],
      "execution_count": 0,
      "outputs": []
    },
    {
      "cell_type": "markdown",
      "metadata": {
        "id": "Efe476SSXyes",
        "colab_type": "text"
      },
      "source": [
        "The first step is to create a `Client` object. This object will play a central role in retrieving information from BigQuery datasets."
      ]
    },
    {
      "cell_type": "code",
      "metadata": {
        "id": "65iy817HYKM4",
        "colab_type": "code",
        "colab": {}
      },
      "source": [
        "# Create a \"Client\" object\n",
        "client = bigquery.Client()"
      ],
      "execution_count": 0,
      "outputs": []
    },
    {
      "cell_type": "markdown",
      "metadata": {
        "id": "5m1EldboYe0O",
        "colab_type": "text"
      },
      "source": [
        "In BigQuery, each dataset is contained in a corresponding project. In this case, our `hacker_news` dataset is contained in the `bigquery-public-data` project. To access the dataset,\n",
        "\n",
        "  * We begin by constructing a reference to the dataset with the `dataset()` method.\n",
        "  * Next, we use the `get_dataset()` method, along with the reference we just constructed, to fetch the dataset. "
      ]
    },
    {
      "cell_type": "code",
      "metadata": {
        "id": "jp0nZdOEZSph",
        "colab_type": "code",
        "colab": {}
      },
      "source": [
        "# Construct a reference to the \"hacker-news\" dataset\n",
        "dataset_ref = client.dataset(\"hacker_news\",project=\"bigquery-public-data\")\n",
        "\n",
        "# API request - fetch the dataset\n",
        "dataset = client.get_dataset(dataset_ref)"
      ],
      "execution_count": 0,
      "outputs": []
    },
    {
      "cell_type": "markdown",
      "metadata": {
        "id": "zvu1T3vtZpT7",
        "colab_type": "text"
      },
      "source": [
        "Every dataset is just a collection of tables. You can think of a dataset as a spreadsheet file containing multiple tables, all composed of rows and columns.\n",
        "\n",
        "We use the `list_tables()` method to list the tables in the dataset."
      ]
    },
    {
      "cell_type": "code",
      "metadata": {
        "id": "xcPl-q08Z-2k",
        "colab_type": "code",
        "colab": {}
      },
      "source": [
        "# List all the tables in the \"hacker_news\" dataset\n",
        "tables = list(client.list_tables(dataset))\n",
        "\n",
        "# Print names of all tables in the dataset (there are four!)\n",
        "for table in tables:\n",
        "  print(table.table_id)"
      ],
      "execution_count": 0,
      "outputs": []
    },
    {
      "cell_type": "markdown",
      "metadata": {
        "id": "dOOfMkwDaPMe",
        "colab_type": "text"
      },
      "source": [
        "We can fetch a table, like we fetched a dataset."
      ]
    },
    {
      "cell_type": "code",
      "metadata": {
        "id": "qN6GvKKUaWUh",
        "colab_type": "code",
        "colab": {}
      },
      "source": [
        "# Construct a reference to the \"full\" table\n",
        "table_ref = dataset_ref.table(\"full\")\n",
        "\n",
        "# API request - fetch the table\n",
        "table = client.get_table(table_ref)"
      ],
      "execution_count": 0,
      "outputs": []
    },
    {
      "cell_type": "markdown",
      "metadata": {
        "id": "zmezCJz1amB0",
        "colab_type": "text"
      },
      "source": [
        "**Table schema**\n",
        "\n",
        "The structure of a table is called its `schema`. We need to understand a table's schema to a effectively pull out the data we want."
      ]
    },
    {
      "cell_type": "code",
      "metadata": {
        "id": "rKzns74lbBWq",
        "colab_type": "code",
        "colab": {}
      },
      "source": [
        "# Print information on all the columns in the \"full\" table in the \"hacker_news\" dataset\n",
        "table.schema"
      ],
      "execution_count": 0,
      "outputs": []
    },
    {
      "cell_type": "markdown",
      "metadata": {
        "id": "yf3RqccmbNJv",
        "colab_type": "text"
      },
      "source": [
        "Each `SchemaField` tells us about a specific column (which we also refer to as a **field**). In order, the information is:\n",
        "\n",
        "* The **name** of the column\n",
        "* The **field type** (or datatype) in the column\n",
        "* The **mode** of the column (`'NULLABLE'` means that a column allows NULL values, and is the default)\n",
        "* A **description** of the data in that column\n",
        "\n",
        "The first field has the SchemaField:\n",
        "``` SchemaField('by', 'string', 'NULLABLE', \"The username of the item's author.\",()) ```\n",
        "\n",
        "\n",
        "This tells us:\n",
        "\n",
        "* the field (or column) is called `by`,\n",
        "* the data in this field is strings,\n",
        "* NULL values are allowed, and\n",
        "* it contains the usernames corresponding to each item's author\n",
        "\n",
        "\n",
        "\n",
        "We can use the `list_rows()` method to check just the first five lines of the `full` table to make sure this is right. (Sometimes databases have outdated descriptions, so it's good to check.) This returns a BigQuery `RowIterator` obejct that can quickly be converted to pandas DataFrame with the `to_dataframe()` method."
      ]
    },
    {
      "cell_type": "code",
      "metadata": {
        "id": "AP0jTUj6c0Wa",
        "colab_type": "code",
        "colab": {}
      },
      "source": [
        "# Preview the first five lines of the \"full\" table\n",
        "client.list_rows(table, max_results=5).to_dataframe()"
      ],
      "execution_count": 0,
      "outputs": []
    },
    {
      "cell_type": "markdown",
      "metadata": {
        "id": "1kUDIq_xdIhQ",
        "colab_type": "text"
      },
      "source": [
        "The `list_rows()` method will also let us look at just the information in a specific column. If we want to see the first fice entries in the `by` column, for example, we can do that!."
      ]
    },
    {
      "cell_type": "code",
      "metadata": {
        "id": "tEIy03NzdVes",
        "colab_type": "code",
        "colab": {}
      },
      "source": [
        "# Preview the first five entries in the \"by\" column of the \"full\" table\n",
        "client.list_rows(table,selected_fields=table.schema[:1],max_results=5).to_dataframe()"
      ],
      "execution_count": 0,
      "outputs": []
    }
  ]
}